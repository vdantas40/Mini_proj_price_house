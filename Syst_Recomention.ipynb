{
  "cells": [
    {
      "cell_type": "markdown",
      "metadata": {
        "id": "view-in-github",
        "colab_type": "text"
      },
      "source": [
        "<a href=\"https://colab.research.google.com/github/vdantas40/Mini_proj_price_house/blob/main/Syst_Recomention.ipynb\" target=\"_parent\"><img src=\"https://colab.research.google.com/assets/colab-badge.svg\" alt=\"Open In Colab\"/></a>"
      ]
    },
    {
      "cell_type": "markdown",
      "metadata": {
        "id": "bfC_Lj17XVtS"
      },
      "source": [
        "# PROJETO DE RECOMENDAÇÃO E AUMENTO DE RECORRÊNCIA DE COMPRA"
      ]
    },
    {
      "cell_type": "markdown",
      "metadata": {
        "id": "h0kFjsJOeH8P"
      },
      "source": [
        "### 1.0 PACOTES"
      ]
    },
    {
      "cell_type": "code",
      "execution_count": 1,
      "metadata": {
        "colab": {
          "base_uri": "https://localhost:8080/"
        },
        "id": "hCNXYIYP4kdP",
        "outputId": "2ba7752e-9201-4b0f-94b5-06a9ed9aa5a1"
      },
      "outputs": [
        {
          "output_type": "stream",
          "name": "stdout",
          "text": [
            "Mounted at /content/drive\n"
          ]
        }
      ],
      "source": [
        "import pandas_profiling\n",
        "from ipywidgets import interact, widgets\n",
        "\n",
        "import pandas as pd\n",
        "import numpy as np\n",
        "import matplotlib.pyplot as plt\n",
        "import seaborn as sns\n",
        "\n",
        "import datetime\n",
        "import datetime as dt\n",
        "from datetime import datetime\n",
        "# LIBERAR VISÃO DO DRIVE NO DIRETÓRIO COLAB\n",
        "from google.colab import drive\n",
        "drive.mount('/content/drive')"
      ]
    },
    {
      "cell_type": "markdown",
      "metadata": {
        "id": "SdWCD6Xp-DCu"
      },
      "source": [
        "#### USUARIOS E SEUS DIRETORIOS COLAB"
      ]
    },
    {
      "cell_type": "code",
      "source": [
        "colabdirect = str(input('Digite seu nome: adriano; alexandre; gabriel; pedro; willian; yuri; vdc'))\n",
        "\n",
        "if colabdirect == str:\n",
        "  print('Seu nome')\n",
        "elif colabdirect == 'alexandre':\n",
        "  dfvendas = pd.read_csv('/content/drive/MyDrive/DNC/amostra_compras_dnc.csv')\n",
        "elif colabdirect == \"adriano\":\n",
        "  print('adriano')\n",
        "elif colabdirect == \"gabriel\":\n",
        "  print('GABI')\n",
        "elif colabdirect == 'willian':\n",
        "  print('WILL')\n",
        "elif colabdirect == 'pedro':\n",
        "  print('pedro')\n",
        "elif colabdirect == 'yuri':  \n",
        "  print('yuri')\n",
        "elif colabdirect == 'vdc':\n",
        "  dfvendas = pd.read_csv('/content/drive/MyDrive/Grupo17DNC/amostra_compras_dnc.csv')\n",
        "\n",
        "print(f'Dados do diretório do {colabdirect}'.format(colabdirect))\n",
        "dfvendas.head(1)"
      ],
      "metadata": {
        "id": "gAAF_upKpnFu",
        "colab": {
          "base_uri": "https://localhost:8080/",
          "height": 287
        },
        "outputId": "1349b8e2-5e2e-4f3e-9917-62efca928cf9"
      },
      "execution_count": 2,
      "outputs": [
        {
          "output_type": "stream",
          "name": "stdout",
          "text": [
            "Digite seu nome: adriano; alexandre; gabriel; pedro; willian; yuri; vdcvdc\n",
            "Dados do diretório do vdc\n"
          ]
        },
        {
          "output_type": "stream",
          "name": "stderr",
          "text": [
            "/usr/local/lib/python3.7/dist-packages/IPython/core/interactiveshell.py:3326: DtypeWarning: Columns (5,10) have mixed types.Specify dtype option on import or set low_memory=False.\n",
            "  exec(code_obj, self.user_global_ns, self.user_ns)\n"
          ]
        },
        {
          "output_type": "execute_result",
          "data": {
            "text/plain": [
              "        siteid        date        time_epoch_hr visitor_visitorid  \\\n",
              "0  SAP-5535001  2022-09-20  2022/09/20 21:59:43  0000f0c029a62613   \n",
              "\n",
              "   visitor_visitcount     sku                           product_name  \\\n",
              "0                 2.0  400750  TRIUNFF LUGAR AMERICANO 45 CM X 30 CM   \n",
              "\n",
              "                                            category  price  quantity  \\\n",
              "0  Acessorios/Mesa/Toalhas de Mesa e Jogos Americ...  11.28       4.0   \n",
              "\n",
              "  order_transactionid  order_revenue  current_purchase  total_purchases  \n",
              "0       1263134292244         219.67                 1                1  "
            ],
            "text/html": [
              "\n",
              "  <div id=\"df-bc2c9fbc-159c-4b69-8574-ca77e7d0582c\">\n",
              "    <div class=\"colab-df-container\">\n",
              "      <div>\n",
              "<style scoped>\n",
              "    .dataframe tbody tr th:only-of-type {\n",
              "        vertical-align: middle;\n",
              "    }\n",
              "\n",
              "    .dataframe tbody tr th {\n",
              "        vertical-align: top;\n",
              "    }\n",
              "\n",
              "    .dataframe thead th {\n",
              "        text-align: right;\n",
              "    }\n",
              "</style>\n",
              "<table border=\"1\" class=\"dataframe\">\n",
              "  <thead>\n",
              "    <tr style=\"text-align: right;\">\n",
              "      <th></th>\n",
              "      <th>siteid</th>\n",
              "      <th>date</th>\n",
              "      <th>time_epoch_hr</th>\n",
              "      <th>visitor_visitorid</th>\n",
              "      <th>visitor_visitcount</th>\n",
              "      <th>sku</th>\n",
              "      <th>product_name</th>\n",
              "      <th>category</th>\n",
              "      <th>price</th>\n",
              "      <th>quantity</th>\n",
              "      <th>order_transactionid</th>\n",
              "      <th>order_revenue</th>\n",
              "      <th>current_purchase</th>\n",
              "      <th>total_purchases</th>\n",
              "    </tr>\n",
              "  </thead>\n",
              "  <tbody>\n",
              "    <tr>\n",
              "      <th>0</th>\n",
              "      <td>SAP-5535001</td>\n",
              "      <td>2022-09-20</td>\n",
              "      <td>2022/09/20 21:59:43</td>\n",
              "      <td>0000f0c029a62613</td>\n",
              "      <td>2.0</td>\n",
              "      <td>400750</td>\n",
              "      <td>TRIUNFF LUGAR AMERICANO 45 CM X 30 CM</td>\n",
              "      <td>Acessorios/Mesa/Toalhas de Mesa e Jogos Americ...</td>\n",
              "      <td>11.28</td>\n",
              "      <td>4.0</td>\n",
              "      <td>1263134292244</td>\n",
              "      <td>219.67</td>\n",
              "      <td>1</td>\n",
              "      <td>1</td>\n",
              "    </tr>\n",
              "  </tbody>\n",
              "</table>\n",
              "</div>\n",
              "      <button class=\"colab-df-convert\" onclick=\"convertToInteractive('df-bc2c9fbc-159c-4b69-8574-ca77e7d0582c')\"\n",
              "              title=\"Convert this dataframe to an interactive table.\"\n",
              "              style=\"display:none;\">\n",
              "        \n",
              "  <svg xmlns=\"http://www.w3.org/2000/svg\" height=\"24px\"viewBox=\"0 0 24 24\"\n",
              "       width=\"24px\">\n",
              "    <path d=\"M0 0h24v24H0V0z\" fill=\"none\"/>\n",
              "    <path d=\"M18.56 5.44l.94 2.06.94-2.06 2.06-.94-2.06-.94-.94-2.06-.94 2.06-2.06.94zm-11 1L8.5 8.5l.94-2.06 2.06-.94-2.06-.94L8.5 2.5l-.94 2.06-2.06.94zm10 10l.94 2.06.94-2.06 2.06-.94-2.06-.94-.94-2.06-.94 2.06-2.06.94z\"/><path d=\"M17.41 7.96l-1.37-1.37c-.4-.4-.92-.59-1.43-.59-.52 0-1.04.2-1.43.59L10.3 9.45l-7.72 7.72c-.78.78-.78 2.05 0 2.83L4 21.41c.39.39.9.59 1.41.59.51 0 1.02-.2 1.41-.59l7.78-7.78 2.81-2.81c.8-.78.8-2.07 0-2.86zM5.41 20L4 18.59l7.72-7.72 1.47 1.35L5.41 20z\"/>\n",
              "  </svg>\n",
              "      </button>\n",
              "      \n",
              "  <style>\n",
              "    .colab-df-container {\n",
              "      display:flex;\n",
              "      flex-wrap:wrap;\n",
              "      gap: 12px;\n",
              "    }\n",
              "\n",
              "    .colab-df-convert {\n",
              "      background-color: #E8F0FE;\n",
              "      border: none;\n",
              "      border-radius: 50%;\n",
              "      cursor: pointer;\n",
              "      display: none;\n",
              "      fill: #1967D2;\n",
              "      height: 32px;\n",
              "      padding: 0 0 0 0;\n",
              "      width: 32px;\n",
              "    }\n",
              "\n",
              "    .colab-df-convert:hover {\n",
              "      background-color: #E2EBFA;\n",
              "      box-shadow: 0px 1px 2px rgba(60, 64, 67, 0.3), 0px 1px 3px 1px rgba(60, 64, 67, 0.15);\n",
              "      fill: #174EA6;\n",
              "    }\n",
              "\n",
              "    [theme=dark] .colab-df-convert {\n",
              "      background-color: #3B4455;\n",
              "      fill: #D2E3FC;\n",
              "    }\n",
              "\n",
              "    [theme=dark] .colab-df-convert:hover {\n",
              "      background-color: #434B5C;\n",
              "      box-shadow: 0px 1px 3px 1px rgba(0, 0, 0, 0.15);\n",
              "      filter: drop-shadow(0px 1px 2px rgba(0, 0, 0, 0.3));\n",
              "      fill: #FFFFFF;\n",
              "    }\n",
              "  </style>\n",
              "\n",
              "      <script>\n",
              "        const buttonEl =\n",
              "          document.querySelector('#df-bc2c9fbc-159c-4b69-8574-ca77e7d0582c button.colab-df-convert');\n",
              "        buttonEl.style.display =\n",
              "          google.colab.kernel.accessAllowed ? 'block' : 'none';\n",
              "\n",
              "        async function convertToInteractive(key) {\n",
              "          const element = document.querySelector('#df-bc2c9fbc-159c-4b69-8574-ca77e7d0582c');\n",
              "          const dataTable =\n",
              "            await google.colab.kernel.invokeFunction('convertToInteractive',\n",
              "                                                     [key], {});\n",
              "          if (!dataTable) return;\n",
              "\n",
              "          const docLinkHtml = 'Like what you see? Visit the ' +\n",
              "            '<a target=\"_blank\" href=https://colab.research.google.com/notebooks/data_table.ipynb>data table notebook</a>'\n",
              "            + ' to learn more about interactive tables.';\n",
              "          element.innerHTML = '';\n",
              "          dataTable['output_type'] = 'display_data';\n",
              "          await google.colab.output.renderOutput(dataTable, element);\n",
              "          const docLink = document.createElement('div');\n",
              "          docLink.innerHTML = docLinkHtml;\n",
              "          element.appendChild(docLink);\n",
              "        }\n",
              "      </script>\n",
              "    </div>\n",
              "  </div>\n",
              "  "
            ]
          },
          "metadata": {},
          "execution_count": 2
        }
      ]
    },
    {
      "cell_type": "code",
      "execution_count": 3,
      "metadata": {
        "id": "mqsDfuwaObX0"
      },
      "outputs": [],
      "source": [
        "# SEM NECESSIDADE DE TRATAMENTO - sem dados nulos ou NAN\n",
        "#msno.bar(dfvendas,figsize=(25,1))"
      ]
    },
    {
      "cell_type": "markdown",
      "metadata": {
        "id": "bymp03J8Pidq"
      },
      "source": [
        "### 2.0 TRATAMENTO DE DADOS ORIENTADO A RECOMPRA / RECOMENDAÇÃO"
      ]
    },
    {
      "cell_type": "code",
      "execution_count": null,
      "metadata": {
        "id": "5z3PMXvf_nnh"
      },
      "outputs": [],
      "source": [
        "# PRECISAMOS TRABALHAR COM CONTAGEM DE DATAS\n",
        "dfvendas['time_epoch_hr'] = pd.to_datetime((dfvendas['time_epoch_hr']),format=\"%Y-%m-%d %H:%M\")\n",
        "# FILTRAR CLIENTE\n",
        "#dfvendas['time_freq'] = dfvendas['time_epoch_hr'].diff()\n",
        "\n",
        "# FILTRAR EMPRESA >>>>>>>>>>>>>>>>>>\n",
        "dfsap5048 = dfvendas[(dfvendas['siteid'] =='SAP-5535048')]#&(dfvendas['category']== 'Agua Destilada - 210')]\n",
        "# VAMOS RETIRAR ALGUMAS VARIÁVEIS PARA MELHORAR A VISÃO NO DF\n",
        "dfsap5048.drop(columns = ['date','siteid','product_name','order_revenue','sku'], inplace = True)\n",
        "# MOLDAR OBJETO PARA NUMÉRICO\n",
        "dfsap5048['order_transactionid'] = dfsap5048['order_transactionid'].astype(int)\n",
        "# IDENTIFICAR APENAS 1 LINHA POR ORDEM\n",
        "dfsap5048 = dfsap5048.drop_duplicates(['order_transactionid'])\n",
        "# MELHOR ORIENTAR A CADA CLIENTE \n",
        "##dfsap5048.sort_values(by='time_epoch_hr', ascending=True, inplace=True)\n",
        "lista43 = dfsap5048['visitor_visitorid'].unique()"
      ]
    },
    {
      "cell_type": "code",
      "source": [
        "## LISTA DE CLIENTES ÚNICA # 531 clientes únicos\n",
        "xxx = dfsap5048[dfsap5048['total_purchases'] >5]\n",
        "l43 = xxx['visitor_visitorid'].unique()\n",
        "print(len(l43),l43)"
      ],
      "metadata": {
        "id": "wyT_cCMZ9mdm"
      },
      "execution_count": null,
      "outputs": []
    },
    {
      "cell_type": "code",
      "source": [
        "#lista = dfsap5048[dfsap5048['visitor_visitorid'] == x]\n",
        "#lista = dfsap5048.groupby(by=x)['price'].sum()"
      ],
      "metadata": {
        "id": "_rLLlywFBZWW"
      },
      "execution_count": 9,
      "outputs": []
    },
    {
      "cell_type": "code",
      "source": [
        "# ESTUDAR A TX DE RECOMPRA: QUANTAS PESSOAS RECOMPRAM? PERCENTUAL QUE RECOMPRA? O QUE ELAS RECOMPRAM? QUAL O TEMPO QUE SE LEVA PARA RECOMPRA?\n",
        "# CRUZAR INFORMAÇÕES SOBRE A RECORRÊNCIA DE COMPRA?\n",
        "# QUAIS FEATURES MAIS IMPACTAM NA RECOMPRA (insigths)?\n",
        "cliente    = []\n",
        "quant      = []\n",
        "valor      = []\n",
        "timemean   = []\n",
        "#tx_recomp  = []\n",
        "timefim    = []\n",
        "timeinicio = []\n",
        "\n",
        "for i in l43:\n",
        "  print(i)\n",
        "  x = dfsap5048['visitor_visitorid'] == i\n",
        "\n",
        "  c = len(dfsap5048[x])\n",
        "  p = dfsap5048.groupby(by=x)['price'].sum()\n",
        "  #tx= dfsap5048.groupby(by=x)['total_purchases'].max()\n",
        "  t = (dfsap5048.groupby(by=x)['time_epoch_hr'].diff()).sum()/c\n",
        "  t1 = dfsap5048.groupby(by=x)['time_epoch_hr'].max()\n",
        "  t0 = dfsap5048.groupby(by=x)['time_epoch_hr'].min()\n",
        "\n",
        "  print(t)\n",
        "  #if c > 5:\n",
        "  cliente.append(i)\n",
        "  quant.append(c)\n",
        "  valor.append(p[1])\n",
        "  #tx_recomp.append(tx)\n",
        "  \n",
        "  timemean.append(t)\n",
        "  timefim.append(t1[1])\n",
        "  timeinicio.append(t0[1])\n",
        "\n",
        "listona = [cliente,quant],#valor,tmUser]"
      ],
      "metadata": {
        "id": "WXY8dkkgsg_6"
      },
      "execution_count": null,
      "outputs": []
    },
    {
      "cell_type": "markdown",
      "source": [
        "Ticket médio;\n",
        "Custo de aquisição do cliente;\n",
        "Lucratividade;\n",
        "Taxa de conversão de vendas;\n",
        "Índice de inadimplência;\n",
        "Retorno sobre investimentos;\n",
        "Satisfação do cliente."
      ],
      "metadata": {
        "id": "ihm8rFa5CEYf"
      }
    },
    {
      "cell_type": "code",
      "source": [
        "# ESTUDAR A TX DE RECOMPRA: \n",
        "      #QUANTAS PESSOAS RECOMPRAM? total de pesssoas comprando 531\n",
        "      # >>> Qual a taxa de recompra? \n",
        "      #QUAL O TEMPO QUE SE LEVA PARA RECOMPRA? O QUE ELAS RECOMPRAM?\n",
        "      # >>> Quais os fatores influenciam e interferem na recompra\n",
        "diasXX = pd.DataFrame(cliente)\n",
        "diasXX['qt']        = quant # na média compram 6,9 ou 7x\n",
        "diasXX['tick_mean']   = valor / diasXX['qt']\n",
        "diasXX['tx_rec']    = ((diasXX[\"qt\"] / diasXX['qt'].sum())*100).map('{:,.2f}'.format) # não usar % '{:,.2f}%'\n",
        "\n",
        "diasXX['timebuy']   = timemean\n",
        "diasXX['first_buy'] = timeinicio\n",
        "diasXX['last_buy']  = timefim\n",
        "diasXX['dias_count']= diasXX['last_buy'] - diasXX['first_buy']\n",
        "diasXX['dias_dist'] = diasXX['dias_count'] / diasXX['qt']\n",
        "diasXX['tx_rec']    = diasXX['tx_rec'].astype(float) # para o agrup2 rode média\n",
        "diasXX"
      ],
      "metadata": {
        "colab": {
          "base_uri": "https://localhost:8080/",
          "height": 423
        },
        "id": "1LhXNGCqHnVm",
        "outputId": "6dfd239b-6ed7-4ba2-ff43-93ea9da88b58"
      },
      "execution_count": 185,
      "outputs": [
        {
          "output_type": "execute_result",
          "data": {
            "text/plain": [
              "                    0  qt   tick_mean  tx_rec                     timebuy  \\\n",
              "0    000ef5b554d08a2b   6   30.291667    0.24   5 days 04:48:50.166666666   \n",
              "1    021691f89b29ccc3   9  295.165556    0.37 -9 days +06:38:24.666666667   \n",
              "2    0239e1b401d9c77d   6   35.916667    0.24  11 days 02:29:26.333333333   \n",
              "3    02a029bae6e32199   6   15.718333    0.24            10 days 13:55:56   \n",
              "4    02dbd0cded590d45   9   73.166667    0.37   4 days 22:26:39.333333333   \n",
              "..                ...  ..         ...     ...                         ...   \n",
              "285  fb6a4f411690dfcf  16   19.200000    0.65      7 days 04:36:32.375000   \n",
              "286  fc42903ecc98711f   6   15.595000    0.24   5 days 17:18:39.666666666   \n",
              "287  fc436b7a4a209139   7   87.200000    0.28   6 days 02:43:10.285714285   \n",
              "288  fe14bcde36c251d8   9   45.782222    0.37   2 days 03:59:38.333333333   \n",
              "289  ffe2ab0630c716e9   6   13.878333    0.24  15 days 09:39:48.833333333   \n",
              "\n",
              "              first_buy            last_buy        dias_count  \\\n",
              "0   2022-05-05 22:14:18 2022-08-23 17:12:15 109 days 18:57:57   \n",
              "1   2022-09-21 15:57:01 2022-09-21 17:47:39   0 days 01:50:38   \n",
              "2   2022-04-27 10:41:34 2022-09-19 15:43:08 145 days 05:01:34   \n",
              "3   2022-05-05 13:59:54 2022-09-24 15:40:26 142 days 01:40:32   \n",
              "4   2022-05-26 10:03:39 2022-09-26 10:08:29 123 days 00:04:50   \n",
              "..                  ...                 ...               ...   \n",
              "285 2022-04-01 09:03:34 2022-10-12 00:53:08 193 days 15:49:34   \n",
              "286 2022-05-13 12:57:31 2022-09-03 10:54:25 112 days 21:56:54   \n",
              "287 2022-05-31 11:59:23 2022-09-29 21:06:31 121 days 09:07:08   \n",
              "288 2022-04-29 12:01:10 2022-08-05 14:02:51  98 days 02:01:41   \n",
              "289 2022-04-08 15:31:28 2022-09-26 15:35:17 171 days 00:03:49   \n",
              "\n",
              "                     dias_dist  \n",
              "0      18 days 07:09:39.500000  \n",
              "1    0 days 00:12:17.555555555  \n",
              "2   24 days 04:50:15.666666666  \n",
              "3   23 days 16:16:45.333333333  \n",
              "4   13 days 16:00:32.222222222  \n",
              "..                         ...  \n",
              "285    12 days 02:29:20.875000  \n",
              "286           18 days 19:39:29  \n",
              "287 17 days 08:09:35.428571428  \n",
              "288 10 days 21:33:31.222222222  \n",
              "289 28 days 12:00:38.166666666  \n",
              "\n",
              "[290 rows x 9 columns]"
            ],
            "text/html": [
              "\n",
              "  <div id=\"df-fad7d2dd-3d0a-4f7f-884d-c2bb0bab1536\">\n",
              "    <div class=\"colab-df-container\">\n",
              "      <div>\n",
              "<style scoped>\n",
              "    .dataframe tbody tr th:only-of-type {\n",
              "        vertical-align: middle;\n",
              "    }\n",
              "\n",
              "    .dataframe tbody tr th {\n",
              "        vertical-align: top;\n",
              "    }\n",
              "\n",
              "    .dataframe thead th {\n",
              "        text-align: right;\n",
              "    }\n",
              "</style>\n",
              "<table border=\"1\" class=\"dataframe\">\n",
              "  <thead>\n",
              "    <tr style=\"text-align: right;\">\n",
              "      <th></th>\n",
              "      <th>0</th>\n",
              "      <th>qt</th>\n",
              "      <th>tick_mean</th>\n",
              "      <th>tx_rec</th>\n",
              "      <th>timebuy</th>\n",
              "      <th>first_buy</th>\n",
              "      <th>last_buy</th>\n",
              "      <th>dias_count</th>\n",
              "      <th>dias_dist</th>\n",
              "    </tr>\n",
              "  </thead>\n",
              "  <tbody>\n",
              "    <tr>\n",
              "      <th>0</th>\n",
              "      <td>000ef5b554d08a2b</td>\n",
              "      <td>6</td>\n",
              "      <td>30.291667</td>\n",
              "      <td>0.24</td>\n",
              "      <td>5 days 04:48:50.166666666</td>\n",
              "      <td>2022-05-05 22:14:18</td>\n",
              "      <td>2022-08-23 17:12:15</td>\n",
              "      <td>109 days 18:57:57</td>\n",
              "      <td>18 days 07:09:39.500000</td>\n",
              "    </tr>\n",
              "    <tr>\n",
              "      <th>1</th>\n",
              "      <td>021691f89b29ccc3</td>\n",
              "      <td>9</td>\n",
              "      <td>295.165556</td>\n",
              "      <td>0.37</td>\n",
              "      <td>-9 days +06:38:24.666666667</td>\n",
              "      <td>2022-09-21 15:57:01</td>\n",
              "      <td>2022-09-21 17:47:39</td>\n",
              "      <td>0 days 01:50:38</td>\n",
              "      <td>0 days 00:12:17.555555555</td>\n",
              "    </tr>\n",
              "    <tr>\n",
              "      <th>2</th>\n",
              "      <td>0239e1b401d9c77d</td>\n",
              "      <td>6</td>\n",
              "      <td>35.916667</td>\n",
              "      <td>0.24</td>\n",
              "      <td>11 days 02:29:26.333333333</td>\n",
              "      <td>2022-04-27 10:41:34</td>\n",
              "      <td>2022-09-19 15:43:08</td>\n",
              "      <td>145 days 05:01:34</td>\n",
              "      <td>24 days 04:50:15.666666666</td>\n",
              "    </tr>\n",
              "    <tr>\n",
              "      <th>3</th>\n",
              "      <td>02a029bae6e32199</td>\n",
              "      <td>6</td>\n",
              "      <td>15.718333</td>\n",
              "      <td>0.24</td>\n",
              "      <td>10 days 13:55:56</td>\n",
              "      <td>2022-05-05 13:59:54</td>\n",
              "      <td>2022-09-24 15:40:26</td>\n",
              "      <td>142 days 01:40:32</td>\n",
              "      <td>23 days 16:16:45.333333333</td>\n",
              "    </tr>\n",
              "    <tr>\n",
              "      <th>4</th>\n",
              "      <td>02dbd0cded590d45</td>\n",
              "      <td>9</td>\n",
              "      <td>73.166667</td>\n",
              "      <td>0.37</td>\n",
              "      <td>4 days 22:26:39.333333333</td>\n",
              "      <td>2022-05-26 10:03:39</td>\n",
              "      <td>2022-09-26 10:08:29</td>\n",
              "      <td>123 days 00:04:50</td>\n",
              "      <td>13 days 16:00:32.222222222</td>\n",
              "    </tr>\n",
              "    <tr>\n",
              "      <th>...</th>\n",
              "      <td>...</td>\n",
              "      <td>...</td>\n",
              "      <td>...</td>\n",
              "      <td>...</td>\n",
              "      <td>...</td>\n",
              "      <td>...</td>\n",
              "      <td>...</td>\n",
              "      <td>...</td>\n",
              "      <td>...</td>\n",
              "    </tr>\n",
              "    <tr>\n",
              "      <th>285</th>\n",
              "      <td>fb6a4f411690dfcf</td>\n",
              "      <td>16</td>\n",
              "      <td>19.200000</td>\n",
              "      <td>0.65</td>\n",
              "      <td>7 days 04:36:32.375000</td>\n",
              "      <td>2022-04-01 09:03:34</td>\n",
              "      <td>2022-10-12 00:53:08</td>\n",
              "      <td>193 days 15:49:34</td>\n",
              "      <td>12 days 02:29:20.875000</td>\n",
              "    </tr>\n",
              "    <tr>\n",
              "      <th>286</th>\n",
              "      <td>fc42903ecc98711f</td>\n",
              "      <td>6</td>\n",
              "      <td>15.595000</td>\n",
              "      <td>0.24</td>\n",
              "      <td>5 days 17:18:39.666666666</td>\n",
              "      <td>2022-05-13 12:57:31</td>\n",
              "      <td>2022-09-03 10:54:25</td>\n",
              "      <td>112 days 21:56:54</td>\n",
              "      <td>18 days 19:39:29</td>\n",
              "    </tr>\n",
              "    <tr>\n",
              "      <th>287</th>\n",
              "      <td>fc436b7a4a209139</td>\n",
              "      <td>7</td>\n",
              "      <td>87.200000</td>\n",
              "      <td>0.28</td>\n",
              "      <td>6 days 02:43:10.285714285</td>\n",
              "      <td>2022-05-31 11:59:23</td>\n",
              "      <td>2022-09-29 21:06:31</td>\n",
              "      <td>121 days 09:07:08</td>\n",
              "      <td>17 days 08:09:35.428571428</td>\n",
              "    </tr>\n",
              "    <tr>\n",
              "      <th>288</th>\n",
              "      <td>fe14bcde36c251d8</td>\n",
              "      <td>9</td>\n",
              "      <td>45.782222</td>\n",
              "      <td>0.37</td>\n",
              "      <td>2 days 03:59:38.333333333</td>\n",
              "      <td>2022-04-29 12:01:10</td>\n",
              "      <td>2022-08-05 14:02:51</td>\n",
              "      <td>98 days 02:01:41</td>\n",
              "      <td>10 days 21:33:31.222222222</td>\n",
              "    </tr>\n",
              "    <tr>\n",
              "      <th>289</th>\n",
              "      <td>ffe2ab0630c716e9</td>\n",
              "      <td>6</td>\n",
              "      <td>13.878333</td>\n",
              "      <td>0.24</td>\n",
              "      <td>15 days 09:39:48.833333333</td>\n",
              "      <td>2022-04-08 15:31:28</td>\n",
              "      <td>2022-09-26 15:35:17</td>\n",
              "      <td>171 days 00:03:49</td>\n",
              "      <td>28 days 12:00:38.166666666</td>\n",
              "    </tr>\n",
              "  </tbody>\n",
              "</table>\n",
              "<p>290 rows × 9 columns</p>\n",
              "</div>\n",
              "      <button class=\"colab-df-convert\" onclick=\"convertToInteractive('df-fad7d2dd-3d0a-4f7f-884d-c2bb0bab1536')\"\n",
              "              title=\"Convert this dataframe to an interactive table.\"\n",
              "              style=\"display:none;\">\n",
              "        \n",
              "  <svg xmlns=\"http://www.w3.org/2000/svg\" height=\"24px\"viewBox=\"0 0 24 24\"\n",
              "       width=\"24px\">\n",
              "    <path d=\"M0 0h24v24H0V0z\" fill=\"none\"/>\n",
              "    <path d=\"M18.56 5.44l.94 2.06.94-2.06 2.06-.94-2.06-.94-.94-2.06-.94 2.06-2.06.94zm-11 1L8.5 8.5l.94-2.06 2.06-.94-2.06-.94L8.5 2.5l-.94 2.06-2.06.94zm10 10l.94 2.06.94-2.06 2.06-.94-2.06-.94-.94-2.06-.94 2.06-2.06.94z\"/><path d=\"M17.41 7.96l-1.37-1.37c-.4-.4-.92-.59-1.43-.59-.52 0-1.04.2-1.43.59L10.3 9.45l-7.72 7.72c-.78.78-.78 2.05 0 2.83L4 21.41c.39.39.9.59 1.41.59.51 0 1.02-.2 1.41-.59l7.78-7.78 2.81-2.81c.8-.78.8-2.07 0-2.86zM5.41 20L4 18.59l7.72-7.72 1.47 1.35L5.41 20z\"/>\n",
              "  </svg>\n",
              "      </button>\n",
              "      \n",
              "  <style>\n",
              "    .colab-df-container {\n",
              "      display:flex;\n",
              "      flex-wrap:wrap;\n",
              "      gap: 12px;\n",
              "    }\n",
              "\n",
              "    .colab-df-convert {\n",
              "      background-color: #E8F0FE;\n",
              "      border: none;\n",
              "      border-radius: 50%;\n",
              "      cursor: pointer;\n",
              "      display: none;\n",
              "      fill: #1967D2;\n",
              "      height: 32px;\n",
              "      padding: 0 0 0 0;\n",
              "      width: 32px;\n",
              "    }\n",
              "\n",
              "    .colab-df-convert:hover {\n",
              "      background-color: #E2EBFA;\n",
              "      box-shadow: 0px 1px 2px rgba(60, 64, 67, 0.3), 0px 1px 3px 1px rgba(60, 64, 67, 0.15);\n",
              "      fill: #174EA6;\n",
              "    }\n",
              "\n",
              "    [theme=dark] .colab-df-convert {\n",
              "      background-color: #3B4455;\n",
              "      fill: #D2E3FC;\n",
              "    }\n",
              "\n",
              "    [theme=dark] .colab-df-convert:hover {\n",
              "      background-color: #434B5C;\n",
              "      box-shadow: 0px 1px 3px 1px rgba(0, 0, 0, 0.15);\n",
              "      filter: drop-shadow(0px 1px 2px rgba(0, 0, 0, 0.3));\n",
              "      fill: #FFFFFF;\n",
              "    }\n",
              "  </style>\n",
              "\n",
              "      <script>\n",
              "        const buttonEl =\n",
              "          document.querySelector('#df-fad7d2dd-3d0a-4f7f-884d-c2bb0bab1536 button.colab-df-convert');\n",
              "        buttonEl.style.display =\n",
              "          google.colab.kernel.accessAllowed ? 'block' : 'none';\n",
              "\n",
              "        async function convertToInteractive(key) {\n",
              "          const element = document.querySelector('#df-fad7d2dd-3d0a-4f7f-884d-c2bb0bab1536');\n",
              "          const dataTable =\n",
              "            await google.colab.kernel.invokeFunction('convertToInteractive',\n",
              "                                                     [key], {});\n",
              "          if (!dataTable) return;\n",
              "\n",
              "          const docLinkHtml = 'Like what you see? Visit the ' +\n",
              "            '<a target=\"_blank\" href=https://colab.research.google.com/notebooks/data_table.ipynb>data table notebook</a>'\n",
              "            + ' to learn more about interactive tables.';\n",
              "          element.innerHTML = '';\n",
              "          dataTable['output_type'] = 'display_data';\n",
              "          await google.colab.output.renderOutput(dataTable, element);\n",
              "          const docLink = document.createElement('div');\n",
              "          docLink.innerHTML = docLinkHtml;\n",
              "          element.appendChild(docLink);\n",
              "        }\n",
              "      </script>\n",
              "    </div>\n",
              "  </div>\n",
              "  "
            ]
          },
          "metadata": {},
          "execution_count": 185
        }
      ]
    },
    {
      "cell_type": "code",
      "source": [
        "((diasXX['qt']-1).sum()) / diasXX['qt'].sum() # tx de recompra 88%"
      ],
      "metadata": {
        "colab": {
          "base_uri": "https://localhost:8080/"
        },
        "id": "nQ-LJ4WQzD_q",
        "outputId": "ff5afeed-3923-4ee2-b7b2-e20f5ac61779"
      },
      "execution_count": 223,
      "outputs": [
        {
          "output_type": "execute_result",
          "data": {
            "text/plain": [
              "0.8821617228768793"
            ]
          },
          "metadata": {},
          "execution_count": 223
        }
      ]
    },
    {
      "cell_type": "code",
      "source": [
        "dfsap5048[dfsap5048['visitor_visitorid'] == '000ef5b554d08a2b']"
      ],
      "metadata": {
        "colab": {
          "base_uri": "https://localhost:8080/",
          "height": 237
        },
        "id": "K9dxqnZbh4ii",
        "outputId": "5fa6df63-fe18-4956-cace-9ce98c32724b"
      },
      "execution_count": 146,
      "outputs": [
        {
          "output_type": "execute_result",
          "data": {
            "text/plain": [
              "             time_epoch_hr visitor_visitorid  visitor_visitcount  \\\n",
              "732096 2022-05-05 22:14:18  000ef5b554d08a2b                18.0   \n",
              "732098 2022-05-09 21:20:22  000ef5b554d08a2b                20.0   \n",
              "732101 2022-05-09 22:09:08  000ef5b554d08a2b                20.0   \n",
              "732104 2022-05-10 18:58:09  000ef5b554d08a2b                21.0   \n",
              "732106 2022-05-13 17:12:23  000ef5b554d08a2b                23.0   \n",
              "732108 2022-08-23 17:12:15  000ef5b554d08a2b                43.0   \n",
              "\n",
              "                        category   price  quantity  order_transactionid  \\\n",
              "732096              Alcool - 207    7.90      10.0              6539078   \n",
              "732098  Seringa Descartavel - 70    0.35     250.0              6562175   \n",
              "732101               Luva - 2428    2.80      56.0              6562604   \n",
              "732104              Alcool - 207    7.90      10.0              6571847   \n",
              "732106               Luva - 2428    2.80      56.0              6599609   \n",
              "732108  Seringa Descartavel - 70  160.00       1.0              7317627   \n",
              "\n",
              "        current_purchase  total_purchases  \n",
              "732096                 1                6  \n",
              "732098                 2                6  \n",
              "732101                 3                6  \n",
              "732104                 4                6  \n",
              "732106                 5                6  \n",
              "732108                 6                6  "
            ],
            "text/html": [
              "\n",
              "  <div id=\"df-a7173ff9-1989-41c3-83d6-bef8ac2f0b25\">\n",
              "    <div class=\"colab-df-container\">\n",
              "      <div>\n",
              "<style scoped>\n",
              "    .dataframe tbody tr th:only-of-type {\n",
              "        vertical-align: middle;\n",
              "    }\n",
              "\n",
              "    .dataframe tbody tr th {\n",
              "        vertical-align: top;\n",
              "    }\n",
              "\n",
              "    .dataframe thead th {\n",
              "        text-align: right;\n",
              "    }\n",
              "</style>\n",
              "<table border=\"1\" class=\"dataframe\">\n",
              "  <thead>\n",
              "    <tr style=\"text-align: right;\">\n",
              "      <th></th>\n",
              "      <th>time_epoch_hr</th>\n",
              "      <th>visitor_visitorid</th>\n",
              "      <th>visitor_visitcount</th>\n",
              "      <th>category</th>\n",
              "      <th>price</th>\n",
              "      <th>quantity</th>\n",
              "      <th>order_transactionid</th>\n",
              "      <th>current_purchase</th>\n",
              "      <th>total_purchases</th>\n",
              "    </tr>\n",
              "  </thead>\n",
              "  <tbody>\n",
              "    <tr>\n",
              "      <th>732096</th>\n",
              "      <td>2022-05-05 22:14:18</td>\n",
              "      <td>000ef5b554d08a2b</td>\n",
              "      <td>18.0</td>\n",
              "      <td>Alcool - 207</td>\n",
              "      <td>7.90</td>\n",
              "      <td>10.0</td>\n",
              "      <td>6539078</td>\n",
              "      <td>1</td>\n",
              "      <td>6</td>\n",
              "    </tr>\n",
              "    <tr>\n",
              "      <th>732098</th>\n",
              "      <td>2022-05-09 21:20:22</td>\n",
              "      <td>000ef5b554d08a2b</td>\n",
              "      <td>20.0</td>\n",
              "      <td>Seringa Descartavel - 70</td>\n",
              "      <td>0.35</td>\n",
              "      <td>250.0</td>\n",
              "      <td>6562175</td>\n",
              "      <td>2</td>\n",
              "      <td>6</td>\n",
              "    </tr>\n",
              "    <tr>\n",
              "      <th>732101</th>\n",
              "      <td>2022-05-09 22:09:08</td>\n",
              "      <td>000ef5b554d08a2b</td>\n",
              "      <td>20.0</td>\n",
              "      <td>Luva - 2428</td>\n",
              "      <td>2.80</td>\n",
              "      <td>56.0</td>\n",
              "      <td>6562604</td>\n",
              "      <td>3</td>\n",
              "      <td>6</td>\n",
              "    </tr>\n",
              "    <tr>\n",
              "      <th>732104</th>\n",
              "      <td>2022-05-10 18:58:09</td>\n",
              "      <td>000ef5b554d08a2b</td>\n",
              "      <td>21.0</td>\n",
              "      <td>Alcool - 207</td>\n",
              "      <td>7.90</td>\n",
              "      <td>10.0</td>\n",
              "      <td>6571847</td>\n",
              "      <td>4</td>\n",
              "      <td>6</td>\n",
              "    </tr>\n",
              "    <tr>\n",
              "      <th>732106</th>\n",
              "      <td>2022-05-13 17:12:23</td>\n",
              "      <td>000ef5b554d08a2b</td>\n",
              "      <td>23.0</td>\n",
              "      <td>Luva - 2428</td>\n",
              "      <td>2.80</td>\n",
              "      <td>56.0</td>\n",
              "      <td>6599609</td>\n",
              "      <td>5</td>\n",
              "      <td>6</td>\n",
              "    </tr>\n",
              "    <tr>\n",
              "      <th>732108</th>\n",
              "      <td>2022-08-23 17:12:15</td>\n",
              "      <td>000ef5b554d08a2b</td>\n",
              "      <td>43.0</td>\n",
              "      <td>Seringa Descartavel - 70</td>\n",
              "      <td>160.00</td>\n",
              "      <td>1.0</td>\n",
              "      <td>7317627</td>\n",
              "      <td>6</td>\n",
              "      <td>6</td>\n",
              "    </tr>\n",
              "  </tbody>\n",
              "</table>\n",
              "</div>\n",
              "      <button class=\"colab-df-convert\" onclick=\"convertToInteractive('df-a7173ff9-1989-41c3-83d6-bef8ac2f0b25')\"\n",
              "              title=\"Convert this dataframe to an interactive table.\"\n",
              "              style=\"display:none;\">\n",
              "        \n",
              "  <svg xmlns=\"http://www.w3.org/2000/svg\" height=\"24px\"viewBox=\"0 0 24 24\"\n",
              "       width=\"24px\">\n",
              "    <path d=\"M0 0h24v24H0V0z\" fill=\"none\"/>\n",
              "    <path d=\"M18.56 5.44l.94 2.06.94-2.06 2.06-.94-2.06-.94-.94-2.06-.94 2.06-2.06.94zm-11 1L8.5 8.5l.94-2.06 2.06-.94-2.06-.94L8.5 2.5l-.94 2.06-2.06.94zm10 10l.94 2.06.94-2.06 2.06-.94-2.06-.94-.94-2.06-.94 2.06-2.06.94z\"/><path d=\"M17.41 7.96l-1.37-1.37c-.4-.4-.92-.59-1.43-.59-.52 0-1.04.2-1.43.59L10.3 9.45l-7.72 7.72c-.78.78-.78 2.05 0 2.83L4 21.41c.39.39.9.59 1.41.59.51 0 1.02-.2 1.41-.59l7.78-7.78 2.81-2.81c.8-.78.8-2.07 0-2.86zM5.41 20L4 18.59l7.72-7.72 1.47 1.35L5.41 20z\"/>\n",
              "  </svg>\n",
              "      </button>\n",
              "      \n",
              "  <style>\n",
              "    .colab-df-container {\n",
              "      display:flex;\n",
              "      flex-wrap:wrap;\n",
              "      gap: 12px;\n",
              "    }\n",
              "\n",
              "    .colab-df-convert {\n",
              "      background-color: #E8F0FE;\n",
              "      border: none;\n",
              "      border-radius: 50%;\n",
              "      cursor: pointer;\n",
              "      display: none;\n",
              "      fill: #1967D2;\n",
              "      height: 32px;\n",
              "      padding: 0 0 0 0;\n",
              "      width: 32px;\n",
              "    }\n",
              "\n",
              "    .colab-df-convert:hover {\n",
              "      background-color: #E2EBFA;\n",
              "      box-shadow: 0px 1px 2px rgba(60, 64, 67, 0.3), 0px 1px 3px 1px rgba(60, 64, 67, 0.15);\n",
              "      fill: #174EA6;\n",
              "    }\n",
              "\n",
              "    [theme=dark] .colab-df-convert {\n",
              "      background-color: #3B4455;\n",
              "      fill: #D2E3FC;\n",
              "    }\n",
              "\n",
              "    [theme=dark] .colab-df-convert:hover {\n",
              "      background-color: #434B5C;\n",
              "      box-shadow: 0px 1px 3px 1px rgba(0, 0, 0, 0.15);\n",
              "      filter: drop-shadow(0px 1px 2px rgba(0, 0, 0, 0.3));\n",
              "      fill: #FFFFFF;\n",
              "    }\n",
              "  </style>\n",
              "\n",
              "      <script>\n",
              "        const buttonEl =\n",
              "          document.querySelector('#df-a7173ff9-1989-41c3-83d6-bef8ac2f0b25 button.colab-df-convert');\n",
              "        buttonEl.style.display =\n",
              "          google.colab.kernel.accessAllowed ? 'block' : 'none';\n",
              "\n",
              "        async function convertToInteractive(key) {\n",
              "          const element = document.querySelector('#df-a7173ff9-1989-41c3-83d6-bef8ac2f0b25');\n",
              "          const dataTable =\n",
              "            await google.colab.kernel.invokeFunction('convertToInteractive',\n",
              "                                                     [key], {});\n",
              "          if (!dataTable) return;\n",
              "\n",
              "          const docLinkHtml = 'Like what you see? Visit the ' +\n",
              "            '<a target=\"_blank\" href=https://colab.research.google.com/notebooks/data_table.ipynb>data table notebook</a>'\n",
              "            + ' to learn more about interactive tables.';\n",
              "          element.innerHTML = '';\n",
              "          dataTable['output_type'] = 'display_data';\n",
              "          await google.colab.output.renderOutput(dataTable, element);\n",
              "          const docLink = document.createElement('div');\n",
              "          docLink.innerHTML = docLinkHtml;\n",
              "          element.appendChild(docLink);\n",
              "        }\n",
              "      </script>\n",
              "    </div>\n",
              "  </div>\n",
              "  "
            ]
          },
          "metadata": {},
          "execution_count": 146
        }
      ]
    },
    {
      "cell_type": "code",
      "source": [
        "# ESTUDAR A TX DE RECOMPRA: QUANTAS PESSOAS RECOMPRAM? PERCENTUAL QUE RECOMPRA? O QUE ELAS RECOMPRAM? QUAL O TEMPO QUE SE LEVA PARA RECOMPRA?\n",
        "# CRUZAR INFORMAÇÕES SOBRE A RECORRÊNCIA DE COMPRA?\n",
        "# QUAIS FEATURES MAIS IMPACTAM NA RECOMPRA (insigths)?\n",
        "grupo_periodos = np.arange(0, diasXX['qt'].max()+1, 7)\n",
        "diasXX['grupo_periodos'] = pd.cut(diasXX['qt'], grupo_periodos)\n",
        "# USAR GROUPBY PARA AGRUPAR\n",
        "df_agrup1 = diasXX.groupby('grupo_periodos', sort=True).sum()\n",
        "df_agrup2 = diasXX.groupby('grupo_periodos').agg({'tx_rec': [ 'min','mean','max']}) * 100\n",
        "df_agrup3 = diasXX.groupby('grupo_periodos', sort=True)['dias_count'].mean()\n",
        "df_agrup4 = pd.concat([df_agrup1, df_agrup2,df_agrup3], axis=1)\n",
        "df_agrup4['tx_rec'] = df_agrup4['tx_rec'].map(\"{:.2f}%\".format)\n",
        "df_agrup4"
      ],
      "metadata": {
        "colab": {
          "base_uri": "https://localhost:8080/",
          "height": 269
        },
        "id": "Zb4zjYaL6d85",
        "outputId": "b90faf34-0528-470c-f41d-c66a9dadb25c"
      },
      "execution_count": 191,
      "outputs": [
        {
          "output_type": "execute_result",
          "data": {
            "text/plain": [
              "                  qt     tick_mean  tx_rec  (tx_rec, min)  (tx_rec, mean)  \\\n",
              "grupo_periodos                                                              \n",
              "(0, 7]          1009  10618.675238  40.36%           24.0       25.383648   \n",
              "(7, 14]         1119   8051.799841  45.92%           33.0       39.586207   \n",
              "(14, 21]         156   1911.095725   6.33%           61.0       70.333333   \n",
              "(21, 28]         100   3442.599653   4.07%           93.0      101.750000   \n",
              "(28, 35]          34    547.961176   1.38%          138.0      138.000000   \n",
              "(35, 42]           0      0.000000   0.00%            NaN             NaN   \n",
              "\n",
              "                (tx_rec, max)                  dias_count  \n",
              "grupo_periodos                                             \n",
              "(0, 7]                   28.0 119 days 23:40:32.113207548  \n",
              "(7, 14]                  57.0 131 days 12:46:22.603448276  \n",
              "(14, 21]                 81.0 121 days 01:32:57.222222222  \n",
              "(21, 28]                110.0    117 days 09:30:29.750000  \n",
              "(28, 35]                138.0             4 days 07:26:11  \n",
              "(35, 42]                  NaN                         NaT  "
            ],
            "text/html": [
              "\n",
              "  <div id=\"df-cde4d8c4-22c8-4adf-a3ce-789b8adbd52e\">\n",
              "    <div class=\"colab-df-container\">\n",
              "      <div>\n",
              "<style scoped>\n",
              "    .dataframe tbody tr th:only-of-type {\n",
              "        vertical-align: middle;\n",
              "    }\n",
              "\n",
              "    .dataframe tbody tr th {\n",
              "        vertical-align: top;\n",
              "    }\n",
              "\n",
              "    .dataframe thead th {\n",
              "        text-align: right;\n",
              "    }\n",
              "</style>\n",
              "<table border=\"1\" class=\"dataframe\">\n",
              "  <thead>\n",
              "    <tr style=\"text-align: right;\">\n",
              "      <th></th>\n",
              "      <th>qt</th>\n",
              "      <th>tick_mean</th>\n",
              "      <th>tx_rec</th>\n",
              "      <th>(tx_rec, min)</th>\n",
              "      <th>(tx_rec, mean)</th>\n",
              "      <th>(tx_rec, max)</th>\n",
              "      <th>dias_count</th>\n",
              "    </tr>\n",
              "    <tr>\n",
              "      <th>grupo_periodos</th>\n",
              "      <th></th>\n",
              "      <th></th>\n",
              "      <th></th>\n",
              "      <th></th>\n",
              "      <th></th>\n",
              "      <th></th>\n",
              "      <th></th>\n",
              "    </tr>\n",
              "  </thead>\n",
              "  <tbody>\n",
              "    <tr>\n",
              "      <th>(0, 7]</th>\n",
              "      <td>1009</td>\n",
              "      <td>10618.675238</td>\n",
              "      <td>40.36%</td>\n",
              "      <td>24.0</td>\n",
              "      <td>25.383648</td>\n",
              "      <td>28.0</td>\n",
              "      <td>119 days 23:40:32.113207548</td>\n",
              "    </tr>\n",
              "    <tr>\n",
              "      <th>(7, 14]</th>\n",
              "      <td>1119</td>\n",
              "      <td>8051.799841</td>\n",
              "      <td>45.92%</td>\n",
              "      <td>33.0</td>\n",
              "      <td>39.586207</td>\n",
              "      <td>57.0</td>\n",
              "      <td>131 days 12:46:22.603448276</td>\n",
              "    </tr>\n",
              "    <tr>\n",
              "      <th>(14, 21]</th>\n",
              "      <td>156</td>\n",
              "      <td>1911.095725</td>\n",
              "      <td>6.33%</td>\n",
              "      <td>61.0</td>\n",
              "      <td>70.333333</td>\n",
              "      <td>81.0</td>\n",
              "      <td>121 days 01:32:57.222222222</td>\n",
              "    </tr>\n",
              "    <tr>\n",
              "      <th>(21, 28]</th>\n",
              "      <td>100</td>\n",
              "      <td>3442.599653</td>\n",
              "      <td>4.07%</td>\n",
              "      <td>93.0</td>\n",
              "      <td>101.750000</td>\n",
              "      <td>110.0</td>\n",
              "      <td>117 days 09:30:29.750000</td>\n",
              "    </tr>\n",
              "    <tr>\n",
              "      <th>(28, 35]</th>\n",
              "      <td>34</td>\n",
              "      <td>547.961176</td>\n",
              "      <td>1.38%</td>\n",
              "      <td>138.0</td>\n",
              "      <td>138.000000</td>\n",
              "      <td>138.0</td>\n",
              "      <td>4 days 07:26:11</td>\n",
              "    </tr>\n",
              "    <tr>\n",
              "      <th>(35, 42]</th>\n",
              "      <td>0</td>\n",
              "      <td>0.000000</td>\n",
              "      <td>0.00%</td>\n",
              "      <td>NaN</td>\n",
              "      <td>NaN</td>\n",
              "      <td>NaN</td>\n",
              "      <td>NaT</td>\n",
              "    </tr>\n",
              "  </tbody>\n",
              "</table>\n",
              "</div>\n",
              "      <button class=\"colab-df-convert\" onclick=\"convertToInteractive('df-cde4d8c4-22c8-4adf-a3ce-789b8adbd52e')\"\n",
              "              title=\"Convert this dataframe to an interactive table.\"\n",
              "              style=\"display:none;\">\n",
              "        \n",
              "  <svg xmlns=\"http://www.w3.org/2000/svg\" height=\"24px\"viewBox=\"0 0 24 24\"\n",
              "       width=\"24px\">\n",
              "    <path d=\"M0 0h24v24H0V0z\" fill=\"none\"/>\n",
              "    <path d=\"M18.56 5.44l.94 2.06.94-2.06 2.06-.94-2.06-.94-.94-2.06-.94 2.06-2.06.94zm-11 1L8.5 8.5l.94-2.06 2.06-.94-2.06-.94L8.5 2.5l-.94 2.06-2.06.94zm10 10l.94 2.06.94-2.06 2.06-.94-2.06-.94-.94-2.06-.94 2.06-2.06.94z\"/><path d=\"M17.41 7.96l-1.37-1.37c-.4-.4-.92-.59-1.43-.59-.52 0-1.04.2-1.43.59L10.3 9.45l-7.72 7.72c-.78.78-.78 2.05 0 2.83L4 21.41c.39.39.9.59 1.41.59.51 0 1.02-.2 1.41-.59l7.78-7.78 2.81-2.81c.8-.78.8-2.07 0-2.86zM5.41 20L4 18.59l7.72-7.72 1.47 1.35L5.41 20z\"/>\n",
              "  </svg>\n",
              "      </button>\n",
              "      \n",
              "  <style>\n",
              "    .colab-df-container {\n",
              "      display:flex;\n",
              "      flex-wrap:wrap;\n",
              "      gap: 12px;\n",
              "    }\n",
              "\n",
              "    .colab-df-convert {\n",
              "      background-color: #E8F0FE;\n",
              "      border: none;\n",
              "      border-radius: 50%;\n",
              "      cursor: pointer;\n",
              "      display: none;\n",
              "      fill: #1967D2;\n",
              "      height: 32px;\n",
              "      padding: 0 0 0 0;\n",
              "      width: 32px;\n",
              "    }\n",
              "\n",
              "    .colab-df-convert:hover {\n",
              "      background-color: #E2EBFA;\n",
              "      box-shadow: 0px 1px 2px rgba(60, 64, 67, 0.3), 0px 1px 3px 1px rgba(60, 64, 67, 0.15);\n",
              "      fill: #174EA6;\n",
              "    }\n",
              "\n",
              "    [theme=dark] .colab-df-convert {\n",
              "      background-color: #3B4455;\n",
              "      fill: #D2E3FC;\n",
              "    }\n",
              "\n",
              "    [theme=dark] .colab-df-convert:hover {\n",
              "      background-color: #434B5C;\n",
              "      box-shadow: 0px 1px 3px 1px rgba(0, 0, 0, 0.15);\n",
              "      filter: drop-shadow(0px 1px 2px rgba(0, 0, 0, 0.3));\n",
              "      fill: #FFFFFF;\n",
              "    }\n",
              "  </style>\n",
              "\n",
              "      <script>\n",
              "        const buttonEl =\n",
              "          document.querySelector('#df-cde4d8c4-22c8-4adf-a3ce-789b8adbd52e button.colab-df-convert');\n",
              "        buttonEl.style.display =\n",
              "          google.colab.kernel.accessAllowed ? 'block' : 'none';\n",
              "\n",
              "        async function convertToInteractive(key) {\n",
              "          const element = document.querySelector('#df-cde4d8c4-22c8-4adf-a3ce-789b8adbd52e');\n",
              "          const dataTable =\n",
              "            await google.colab.kernel.invokeFunction('convertToInteractive',\n",
              "                                                     [key], {});\n",
              "          if (!dataTable) return;\n",
              "\n",
              "          const docLinkHtml = 'Like what you see? Visit the ' +\n",
              "            '<a target=\"_blank\" href=https://colab.research.google.com/notebooks/data_table.ipynb>data table notebook</a>'\n",
              "            + ' to learn more about interactive tables.';\n",
              "          element.innerHTML = '';\n",
              "          dataTable['output_type'] = 'display_data';\n",
              "          await google.colab.output.renderOutput(dataTable, element);\n",
              "          const docLink = document.createElement('div');\n",
              "          docLink.innerHTML = docLinkHtml;\n",
              "          element.appendChild(docLink);\n",
              "        }\n",
              "      </script>\n",
              "    </div>\n",
              "  </div>\n",
              "  "
            ]
          },
          "metadata": {},
          "execution_count": 191
        }
      ]
    },
    {
      "cell_type": "code",
      "source": [
        "a = 40.36 + 45.92 + 6.33 + 4.07+ 1.38\n",
        "100 - a"
      ],
      "metadata": {
        "colab": {
          "base_uri": "https://localhost:8080/"
        },
        "id": "5u0nKF7N4vVL",
        "outputId": "b75b4fc8-8a5f-4d3a-ceee-40468a0b469b"
      },
      "execution_count": 195,
      "outputs": [
        {
          "output_type": "execute_result",
          "data": {
            "text/plain": [
              "1.9399999999999977"
            ]
          },
          "metadata": {},
          "execution_count": 195
        }
      ]
    },
    {
      "cell_type": "code",
      "source": [
        "df_agrup3['qt'].sum()"
      ],
      "metadata": {
        "colab": {
          "base_uri": "https://localhost:8080/"
        },
        "id": "ojra53xumnlZ",
        "outputId": "f937f84c-7c9e-4aff-bce9-64eb1e80413c"
      },
      "execution_count": 37,
      "outputs": [
        {
          "output_type": "execute_result",
          "data": {
            "text/plain": [
              "2418"
            ]
          },
          "metadata": {},
          "execution_count": 37
        }
      ]
    },
    {
      "cell_type": "markdown",
      "metadata": {
        "id": "9eW23eQ9iiVJ"
      },
      "source": [
        "###6.0 MODELO DE RECOMENDAÇÃO"
      ]
    },
    {
      "cell_type": "code",
      "source": [
        "(diasXX.groupby(diasXX.qt.\n",
        " tolist(),dropna=False).size().\n",
        " to_frame('User_buy').\n",
        " sort_values('User_buy',ascending = False)\n",
        ")"
      ],
      "metadata": {
        "id": "vHS3z-Sv1gm4"
      },
      "execution_count": null,
      "outputs": []
    },
    {
      "cell_type": "code",
      "execution_count": null,
      "metadata": {
        "id": "BD9tqa2R9Jvg"
      },
      "outputs": [],
      "source": [
        "# DATASET SEGREGADOS PARA ANALISE TYPOS ISOLADAS\n",
        "#dfnumber = dfsap5048.select_dtypes(include = 'number')\n",
        "#dfescrita= dfsap5048.select_dtypes(include = 'object')\n",
        "#dfdatas  = dfsap5048.select_dtypes(include = 'datetime')"
      ]
    },
    {
      "cell_type": "code",
      "source": [
        "# 1)\tEstudar a taxa de recompra: quantas pessoas recompram, percentual que recompra, o que elas recompram, qual o tempo que se leva para recompra."
      ],
      "metadata": {
        "id": "8AHVUQX4ZpZG"
      },
      "execution_count": null,
      "outputs": []
    },
    {
      "cell_type": "code",
      "source": [
        "# A correlação de Pearson avalia a relação linear entre duas variáveis contínuas.\n",
        "# Uma relação é linear quando a mudança em uma variável é associada a uma mudança proporcional na outra variável.\n",
        "#dfnumber.corr(method='pearson')  # corr>> total_purchases com current purchase 82% # corr>> current com visitocount 40% # corr>> total current com visitcount 37%"
      ],
      "metadata": {
        "id": "FVjbXXxku1Y3"
      },
      "execution_count": null,
      "outputs": []
    },
    {
      "cell_type": "code",
      "source": [
        "# A correlação de Spearman avalia a relação monotônica entre duas variáveis contínuas ou ordinais. \n",
        "# Em uma relação monotônica, as variáveis tendem a mudar juntas mas não necessariamente a uma taxa constante.\n",
        "# O coeficiente de correlação de Spearman baseia-se nos valores classificados de cada variável, em vez de os dados brutos.\n",
        "#dfnumber.corr(method='spearman') # corr>> total com current purchase 77% # corr>> visitorcount com current ou total 51% # corr>> quantity com price -63%"
      ],
      "metadata": {
        "id": "cFiLSpQ4vzni"
      },
      "execution_count": null,
      "outputs": []
    },
    {
      "cell_type": "code",
      "source": [
        "qt_user = dfsap5048[dfsap5048['visitor_visitorid'] == '1dfefe5b2f5f6d34']\n",
        "list43 = qt_user #58352\n",
        "list43['time_epoch_hr'].min() \n",
        "dfsap5048['dif_dias'] = dfsap5048['time_epoch_hr'] - dfsap5048['time_epoch_hr'].min()\n",
        "dfsap5048.head(3)\n",
        "dfsap5048['dif_dias'].median()"
      ],
      "metadata": {
        "id": "GvIQUynMkK2q"
      },
      "execution_count": null,
      "outputs": []
    },
    {
      "cell_type": "code",
      "source": [
        "timeday"
      ],
      "metadata": {
        "id": "3xgw8k-WT5Db"
      },
      "execution_count": null,
      "outputs": []
    },
    {
      "cell_type": "code",
      "source": [
        "diasX = pd.DataFrame(listona)\n",
        "#pd.pivot(diasX, columns=['valor'] ) # index=['values='price', column= ,values=)\n",
        "diasX = pd.melt(diasX, id_vars=0, value_vars=[3])"
      ],
      "metadata": {
        "id": "2rRdIDTJR8Si"
      },
      "execution_count": null,
      "outputs": []
    },
    {
      "cell_type": "code",
      "source": [
        "lista43 = len(dfsap5048['current_purchase'].unique())\n",
        "\n",
        "#dt1 = datetime.date(fff['time_epoch_hr'][0])\n",
        "\n",
        "#fff['current_purchase'].diff().fillna(0).mean()\n",
        "#fff[~fff['current_purchase'].isnull()]['current_purchase'].diff()\n",
        "#fff['time_epoch_hr'].max() -fff['time_epoch_hr'].min()"
      ],
      "metadata": {
        "id": "WIFGfLFayVJa"
      },
      "execution_count": null,
      "outputs": []
    },
    {
      "cell_type": "code",
      "source": [
        "#o ticket médio;\n",
        "#a taxa de abandono de carrinho;\n",
        "#Por meio de quais anúncios impulsionados eles chegaram no site;\n",
        "#quais dos clientes realizaram uma nova compra nos meses seguintes;"
      ],
      "metadata": {
        "id": "gM-eOQju5Tkr"
      },
      "execution_count": null,
      "outputs": []
    },
    {
      "cell_type": "code",
      "source": [
        "diasXX = diasXX['qt'].sort_values(ascending=False)\n",
        "\n",
        "media_dias = diasX.mean()\n",
        "print(media_dias, diasX)"
      ],
      "metadata": {
        "id": "QzVnKIP0vosa"
      },
      "execution_count": null,
      "outputs": []
    },
    {
      "cell_type": "code",
      "source": [
        "clientetotal = dfdiasbuy['qt'].sum() # 3666\n",
        "dfdiasbuy['Perc%'] = dfdiasbuy['qt'].cumsum()/ clientetotal *100\n",
        "dfdiasbuy"
      ],
      "metadata": {
        "id": "jUjV1wPjzZl6"
      },
      "execution_count": null,
      "outputs": []
    },
    {
      "cell_type": "code",
      "source": [
        "dfsap5048.iloc[[0,500,5]]"
      ],
      "metadata": {
        "id": "0Rrl00w9CMXi"
      },
      "execution_count": null,
      "outputs": []
    },
    {
      "cell_type": "code",
      "source": [],
      "metadata": {
        "id": "SzgB_RpRL-QK"
      },
      "execution_count": null,
      "outputs": []
    },
    {
      "cell_type": "code",
      "source": [
        "dfsap5048.groupby(by=x)['price'].sum()/ len(dfsap5048[x])"
      ],
      "metadata": {
        "id": "YCjtsMcAOa91"
      },
      "execution_count": null,
      "outputs": []
    },
    {
      "cell_type": "code",
      "source": [
        "1184+938+341"
      ],
      "metadata": {
        "id": "FGT8MHUal_Yr"
      },
      "execution_count": null,
      "outputs": []
    },
    {
      "cell_type": "code",
      "execution_count": null,
      "metadata": {
        "id": "a763Vu0tFabe"
      },
      "outputs": [],
      "source": [
        "# FILTRAR EMPRESA\n",
        "dfsap5048 = dfvendas[(dfvendas['siteid'] =='SAP-5535048')]#&(dfvendas['category']== 'Agua Destilada - 210')]\n",
        "# VAMOS RETIRAR ALGUMAS VARIÁVEIS PARA MELHORAR A VISÃO NO DF\n",
        "dfsap5048.drop(columns = ['date','order_revenue','product_name'], inplace = True)\n",
        "# MOLDAR OBJETO PARA NUMÉRICO\n",
        "dfsap5048['order_transactionid'] = dfsap5048['order_transactionid'].astype(int)\n",
        "# IDENTIFICAR APENAS 1 LINHA POR ORDEM\n",
        "dfsap5048 = dfsap5048.drop_duplicates(['order_transactionid'])\n",
        "# MELHOR ORIENTAR A CADA CLIENTE \n",
        "dfsap5048.sort_values(by='time_epoch_hr', ascending=True, inplace=True)\n",
        "# FILTRAR CLIENTE\n",
        "dfsap5048['time_freq'] = dfsap5048['time_epoch_hr'].diff()\n",
        "freqcompra = dfsap5048['time_freq'].describe() #>> describe clientes >> mean = 0 days 00:04:10.609278958 >> std 0 days 00:12:08.355047424\n",
        "dfsap5048['preco_unico'] = dfsap5048['price'].diff()\n",
        "varpreco = dfsap5048['preco_unico'].describe() # >>  mean -0.009789 >> std  566.297026\n",
        "listaclientes = list(dfsap5048['visitor_visitorid']) # >> 69470 clientes únicos"
      ]
    },
    {
      "cell_type": "code",
      "source": [
        "## y = dfsap5048['visitor_visitorid'].unique()  #58352\n",
        "## x = dfsap5048.drop_duplicates('total_purchases')[:100]\n",
        "## w = dfsap5048[\"visitor_visitorid\"].value_counts()\n",
        "## z = dfsap5048[\"visitor_visitorid\"].sort_values(ascending=True) \n",
        "## a = dfsap5048.nlargest(50, 'visitor_visitorid')\n",
        "#lista = dfsap5048[dfsap5048['visitor_visitorid'] == x]\n",
        "#lista = dfsap5048.groupby(by=x)['price'].sum()\n",
        "## qt_user = dfsap5048[dfsap5048['visitor_visitorid'] == '0003cb364618e8ca']\n",
        "## lista43 = qt_user.groupby(by=['total_purchases'])['visitor_visitorid'].apply(list)\n",
        "#lista34 = qt_user.nlargest(1000, 'current_purchase', 'all')\n",
        "lista43\n",
        "# LISTA UNICA DE CLIENTES PARA ITERAR >>>>>>>>>>>>>>>>>>>>>>>>>>>>>>>>>>>>>>>>\n",
        "xxx = dfsap5048[dfsap5048['total_purchases'] >5]\n",
        "l43 = xxx['visitor_visitorid'].unique()\n",
        "print(len(l43),l43)"
      ],
      "metadata": {
        "id": "351W7d9zBDn9"
      },
      "execution_count": null,
      "outputs": []
    },
    {
      "cell_type": "code",
      "execution_count": null,
      "metadata": {
        "id": "J33_AFOL-Vqv"
      },
      "outputs": [],
      "source": [
        "freqcompra"
      ]
    },
    {
      "cell_type": "code",
      "execution_count": null,
      "metadata": {
        "id": "WeK-g4BRaxpo"
      },
      "outputs": [],
      "source": [
        "time_buy = dfsap5048.groupby(by=['time_freq'],sort=True, group_keys=False )['price'].apply(list)\n",
        "#time_buy2 = np.array(fsap5048.groupby(by=['time_freq'],sort=True, group_keys=False )['price'].apply(list))\n",
        "#print(time_buy2,len(time_buy2), len(time_buy2[3]))\n",
        "print(time_buy)"
      ]
    },
    {
      "cell_type": "markdown",
      "metadata": {
        "id": "boVFORM6pO88"
      },
      "source": [
        "#### 2.2 Separando dados por empresa\n",
        "<p> 2.2.1 Empresa com nicho de produtos farmacêuticos\n",
        "<p> O Máx de compras recorrentes de um cliente foi de 43\n",
        "<p> DF vendas tem 929698  mil linhas"
      ]
    },
    {
      "cell_type": "code",
      "execution_count": null,
      "metadata": {
        "id": "_sn3Sc2va7ag"
      },
      "outputs": [],
      "source": [
        "time_buy = (dfsap5048.groupby(by=['time_freq'],sort=True, group_keys=False )['quantity'].apply(list))\n",
        "print(time_buy)"
      ]
    },
    {
      "cell_type": "code",
      "execution_count": null,
      "metadata": {
        "id": "SWEbd1eka4I6"
      },
      "outputs": [],
      "source": [
        "qt_buy = dfsap5048.groupby(by=['current_purchase'],sort=True, group_keys=False )['price'].apply(list)\n",
        "qt_buy.head(-40)"
      ]
    },
    {
      "cell_type": "code",
      "execution_count": null,
      "metadata": {
        "id": "endetXj-V-aR"
      },
      "outputs": [],
      "source": [
        "qt_user = dfsap5048.groupby(by=['current_purchase'],sort=True, group_keys=False )['visitor_visitorid'].apply(list)\n",
        "qt_user[1]\n",
        "#fiquei na dúvida sobre se esse dado é confiável porque há chaves iguais."
      ]
    },
    {
      "cell_type": "code",
      "source": [
        "len(qt_user)"
      ],
      "metadata": {
        "id": "Vd8WP12jZd02"
      },
      "execution_count": null,
      "outputs": []
    },
    {
      "cell_type": "code",
      "execution_count": null,
      "metadata": {
        "id": "h8nn2-0PWmIx"
      },
      "outputs": [],
      "source": [
        "users = list([])\n",
        "#tb_user = pd.DataFrame()\n",
        "contd = 1\n",
        "for i in range(len(qt_user)):\n",
        "  i += contd\n",
        "  users.append(len(qt_user[:][i]))\n",
        "users\n",
        "tb_user['qt'] = users\n",
        "tb_user"
      ]
    },
    {
      "cell_type": "code",
      "execution_count": null,
      "metadata": {
        "id": "IYN9vXYzE1Hl"
      },
      "outputs": [],
      "source": [
        "dfcliente = dfvendas[(dfvendas['siteid'] =='SAP-5535048')&(dfvendas['visitor_visitorid'] == '0001030c8dc84ed2' )]\n",
        "dfclientedata = dfcliente.nlargest(30,['date'], keep='all')  #.nsmallest\n",
        "dfclientedata"
      ]
    },
    {
      "cell_type": "code",
      "execution_count": null,
      "metadata": {
        "id": "X71pCqHwp0Xg"
      },
      "outputs": [],
      "source": [
        "#dfvendas[['date']].plot(figsize=(25,5))\n",
        "dfvajuste = dfvendas.drop(columns = ['sku','product_name'])#, inplace = True])\n",
        "(\n",
        "  dfvajuste# == 'SAP-5535048']\n",
        " .groupby(dfvajuste.columns.tolist())#, dropna=False)\n",
        " .size()\n",
        " .to_frame('n_duplicates')\n",
        " .query('n_duplicates>0')\n",
        " .sort_values('n_duplicates', ascending=False)\n",
        ")"
      ]
    },
    {
      "cell_type": "code",
      "execution_count": null,
      "metadata": {
        "id": "aaSKTyLGisUm"
      },
      "outputs": [],
      "source": [
        "dfsap5535048 = dfvendas[dfvendas['siteid'] ==  'SAP-5535048']#.query('total_purchases > current_purchase') drop['sku','product_name]\n",
        "dfsimilar = dfsap5535048['category'].str.split(\" \", n=5, expand=True )\n",
        "(dfsimilar[0].unique())\n",
        "dfm_similar = pd.DataFrame(columns=(dfsimilar[0]))\n",
        "dfsimilar"
      ]
    },
    {
      "cell_type": "markdown",
      "metadata": {
        "id": "tLBkVzS80xZY"
      },
      "source": [
        "#### OUTROS"
      ]
    },
    {
      "cell_type": "code",
      "execution_count": null,
      "metadata": {
        "id": "2g3oCeaMu00H"
      },
      "outputs": [],
      "source": [
        "for i in dfsimilar[0]:\n",
        "  for j in dfm_similar:\n",
        "    dfm_similar = dfsimilar.groupby(i)[j].transform('count')\n",
        "    print(j)"
      ]
    },
    {
      "cell_type": "code",
      "execution_count": null,
      "metadata": {
        "id": "EzdYHZ78jfvU"
      },
      "outputs": [],
      "source": [
        "contColNames = list(dfvendas.select_dtypes(include='number').columns)\n",
        "contColNames"
      ]
    },
    {
      "cell_type": "code",
      "execution_count": null,
      "metadata": {
        "id": "CmMWS0_LjYmh"
      },
      "outputs": [],
      "source": [
        "ncols = 3"
      ]
    },
    {
      "cell_type": "code",
      "execution_count": null,
      "metadata": {
        "id": "umJJRvNUjZHG"
      },
      "outputs": [],
      "source": [
        "nrows = int(np.ceil(len(contColNames)/(1.0 * ncols)))\n",
        "nrows"
      ]
    },
    {
      "cell_type": "code",
      "execution_count": null,
      "metadata": {
        "id": "EDyQ6aCBjThr"
      },
      "outputs": [],
      "source": [
        "fig, axes = plt.subplots(nrows=nrows, ncols=ncols, figsize=(20,10))\n",
        "\n",
        "counter = 0 \n",
        "\n",
        "for i in range(nrows):\n",
        "  for j in range(ncols):\n",
        "\n",
        "    ax = axes[i][j]\n",
        "\n",
        "    # Plotar somente quando houver dados\n",
        "    if counter < len(contColNames):\n",
        "\n",
        "      ax.hist(dfvendas[dfvendas[contColNames[counter]]<25].select_dtypes(include='number')[contColNames[counter]], bins=100)\n",
        "      ax.set_xlabel(contColNames[counter])\n",
        "      ax.set_ylabel('Frequência')\n",
        "\n",
        "    else:\n",
        "      ax.set_axis_off()\n",
        "\n",
        "    counter += 1\n",
        "\n",
        "plt.show()"
      ]
    },
    {
      "cell_type": "code",
      "execution_count": null,
      "metadata": {
        "id": "Vvs_qCLA_R6m"
      },
      "outputs": [],
      "source": [
        "dfvendas.info()"
      ]
    },
    {
      "cell_type": "code",
      "execution_count": null,
      "metadata": {
        "id": "NHWsr8lOksEL"
      },
      "outputs": [],
      "source": [
        "fig = plt.figure()\n",
        "\n",
        "plt.bar(dfvendas['visitor_visitorid'].unique(), dfvendas['price'].value_counts())\n",
        "\n",
        "plt.title('Distribuição visitantes', loc='left')"
      ]
    },
    {
      "cell_type": "code",
      "execution_count": null,
      "metadata": {
        "id": "xDm-qtEik7Tb"
      },
      "outputs": [],
      "source": [
        "sns.pairplot(dfvendas)"
      ]
    },
    {
      "cell_type": "code",
      "execution_count": null,
      "metadata": {
        "id": "vpgDcg40NoGQ"
      },
      "outputs": [],
      "source": [
        "# TRATAR objeto\n",
        "#dffluxo['visitor_visitorid'].apply(np.int64)\n",
        "\n",
        "#visitor_id.str.replace('.','').str(',','.').astype(\"float\")\n",
        "\n",
        "# max_visitor = dfvendas.nlargest(1000000, 'visitor_visitorid',keep='all')"
      ]
    },
    {
      "cell_type": "markdown",
      "metadata": {
        "id": "_xsi-7Ap2IgV"
      },
      "source": [
        "### EXTRA ANALISE DE VENDAS NAS EMPRESAS\n"
      ]
    },
    {
      "cell_type": "markdown",
      "metadata": {
        "id": "NwuJIq1Y0W_l"
      },
      "source": [
        "### "
      ]
    },
    {
      "cell_type": "code",
      "execution_count": null,
      "metadata": {
        "id": "feDx9B-bfdcn"
      },
      "outputs": [],
      "source": [
        "# VERIFICANDO A TX DE DESCONTO EM CADA PRODUTO PARA SE TER EM MÉDIA OS PREÇOS NAN\n",
        "dfvendas['receita'] = dfvendas['price'].sun().astype(int)\n",
        "dfvendas['ticket'] = dfvendas['receita'] / len(dfvendas)\n",
        "dfvendas['ticket']"
      ]
    },
    {
      "cell_type": "code",
      "execution_count": null,
      "metadata": {
        "id": "30Q8DBm92FfR"
      },
      "outputs": [],
      "source": [
        "dfvendas = pd.read_csv('/content/drive/MyDrive/Grupo17DNC/amostra_compras_dnc.csv')"
      ]
    },
    {
      "cell_type": "code",
      "execution_count": null,
      "metadata": {
        "id": "2OhEgdcK2MdS"
      },
      "outputs": [],
      "source": [
        "dfvendas\n",
        "import plotly.express as px\n",
        "fig = px.box(dfvendas,\n",
        "             x=\"siteid\", y=\"price\",\n",
        "             title=\"Desvio Padrão nos Preço x EMPRESA\",)\n",
        "fig.update_traces(quartilemethod=\"inclusive\",) #or inclusive or linear\n",
        "fig.update_layout(margin={'r':0,'t':0,'l':0,'b':0})\n",
        "fig.show()"
      ]
    },
    {
      "cell_type": "code",
      "execution_count": null,
      "metadata": {
        "id": "PQnwzoxn4HpN"
      },
      "outputs": [],
      "source": [
        "listaCia = ['SAP-5535001','SAP5535027','SAP5535048']"
      ]
    },
    {
      "cell_type": "code",
      "execution_count": null,
      "metadata": {
        "id": "kgzTLDeE7vLM"
      },
      "outputs": [],
      "source": [
        "dfvendas.head(3)"
      ]
    },
    {
      "cell_type": "code",
      "execution_count": null,
      "metadata": {
        "id": "WuQWYHmKH1Jp"
      },
      "outputs": [],
      "source": [
        "dfvendas['Pvendatotal'] = dfvendas['price'] * dfvendas['quantity']\n",
        "fatTotal = dfvendas['Pvendatotal'].sum()\n",
        "numVendas = len(dfvendas)\n",
        "ticketmedtotal = fatTotal /numVendas\n",
        "print(f'Faturamento total foi de {fatTotal:.2f}, e as vendas total de {numVendas:.2f}, chegamos ao Ticket Médio de {ticketmedtotal:.2f} nas 11 empresas'.format(fatTotal,numVendas,ticketmedtotal))"
      ]
    },
    {
      "cell_type": "code",
      "execution_count": null,
      "metadata": {
        "id": "crzSyGREVXO8"
      },
      "outputs": [],
      "source": [
        "cia = dfvendas['siteid'].unique()\n",
        "len(cia)\n",
        "cia"
      ]
    },
    {
      "cell_type": "code",
      "execution_count": null,
      "metadata": {
        "id": "0y78GINIPQVk"
      },
      "outputs": [],
      "source": [
        "lista1 = []\n",
        "lista2 = []\n",
        "for k in (cia):\n",
        "  dfcia = dfvendas.loc[dfvendas['siteid']==k]\n",
        "    \n",
        "  dfcia['Pvendatotal'] = dfcia['price'] * dfcia['quantity']\n",
        "  fatTotal = dfcia['Pvendatotal'].sum()\n",
        "  numVendas = len(dfcia)\n",
        "  ticketmed = fatTotal /numVendas\n",
        "  lista1.append(k)\n",
        "  lista2.append(ticketmed)\n",
        "\n",
        "\n",
        "  #print('contagem {} e {}'.format(lista1,lista2))\n",
        "#lista.append(ticketmedtotal)\n",
        "lista1"
      ]
    },
    {
      "cell_type": "code",
      "execution_count": null,
      "metadata": {
        "id": "aPJHBaepXWot"
      },
      "outputs": [],
      "source": [
        "tckmed = pd.DataFrame(data=lista1)\n",
        "tckmed['ticket'] = lista2\n",
        "tckmed = tckmed.rename(columns={0:'Empresa'})\n",
        "tckmed"
      ]
    },
    {
      "cell_type": "code",
      "execution_count": null,
      "metadata": {
        "id": "h8xruKmccgw8"
      },
      "outputs": [],
      "source": [
        "ax1 = tckmed.plot.bar(rot=0)\n",
        "ax2 = ax1.twinx()\n",
        "ax2.set_ylabel('Média', color='b')\n",
        "ax2.plot(data='ticketmedtotal')\n",
        "ax2.tick_params(axis='y', labelcolor='b')"
      ]
    },
    {
      "cell_type": "code",
      "execution_count": null,
      "metadata": {
        "id": "4BmoQxxr5JEV"
      },
      "outputs": [],
      "source": []
    },
    {
      "cell_type": "code",
      "execution_count": null,
      "metadata": {
        "id": "D4dXm5gzXsMF"
      },
      "outputs": [],
      "source": [
        "dfmeta = df.isnull().sum().sort_values(ascending=False)\n",
        "dfdupli = df[df.duplicated(keep=False)]\n",
        "dfdupli.shape[0]  / df.shape[0] -1"
      ]
    },
    {
      "cell_type": "markdown",
      "source": [
        "### 7.0 GRÁFICOS"
      ],
      "metadata": {
        "id": "xk1cSLvbbixT"
      }
    },
    {
      "cell_type": "code",
      "source": [
        "ds_temp = drugstore[['visitor_visitorid','total_purchases']]\n",
        "ds_temp.groupby('total_purchases').size()\n",
        "\n",
        "selecao = drugstore['total_purchases']==43\n",
        "drugstore[selecao]"
      ],
      "metadata": {
        "id": "a6B0-qqocJUD"
      },
      "execution_count": null,
      "outputs": []
    },
    {
      "cell_type": "code",
      "source": [
        "# Store averages per basket size\n",
        "ds_temp = ds_temp.groupby('order_transactionid').agg({'order_revenue': \"mean\"}).reset_index()\n",
        "ds_temp = ds_temp[ds_temp.order_transactionid >= 3]\n",
        "\n",
        "# Plot Relationship\n",
        "plt.figure(figsize=(16,5))\n",
        "ax = sns.regplot(data = ds_temp, \n",
        "                 x=\"order_revenue\", \n",
        "                 y=\"order_transactionid\")\n",
        "plt.title(\"Relationship between Average Order & Revenue\")\n",
        "plt.xlabel(\"Order Value\")\n",
        "plt.ylabel(\"Revenue\")\n",
        "plt.show()"
      ],
      "metadata": {
        "id": "xeZdMZjNblQT"
      },
      "execution_count": null,
      "outputs": []
    },
    {
      "cell_type": "code",
      "source": [
        "# Create Summary Data\n",
        "ds_temp = drugstore.groupby('visitor_visitorid').agg({'order_transactionid':'count'}).reset_index()\n",
        "ds_temp = ds_temp.groupby('order_transactionid').agg({'visitor_visitorid':'count'}).reset_index()\n",
        "ds_temp['pct_customers'] = ds_temp['visitor_visitorid'] / np.sum(ds_temp['visitor_visitorid']) * 100\n",
        "ds_temp['transition'] = ds_temp.visitor_visitorid / ds_temp.visitor_visitorid.shift(2) * 100\n",
        "\n",
        "# Plot relationship\n",
        "ax = sns.set_style(style=None, rc=None )\n",
        "fig, ax = plt.subplots(figsize=(25,10))\n",
        "sns.lineplot(data = ds_temp['transition'], marker='o', sort = False, ax=ax)\n",
        "sns.barplot(data = ds_temp, x='order_transactionid', y='pct_customers', alpha=0.5, color = 'green', ax=ax)\n",
        "plt.title(\"Customers by Number of Orders and Transition Rate\")\n",
        "plt.xlabel(\"Number of Orders\")\n",
        "plt.ylabel(\"Percentage of Customers\")\n",
        "plt.show()"
      ],
      "metadata": {
        "id": "4wKsLzTybvAX"
      },
      "execution_count": null,
      "outputs": []
    },
    {
      "cell_type": "code",
      "source": [
        "# Clear Objects\n",
        "del ds_temp, ax, fig\n",
        "\n",
        "# Identify customers with multiple purchases\n",
        "ds_multi = drugstore.groupby('visitor_visitorid').agg({'order_transactionid':'count'}).reset_index()\n",
        "ds_multi = ds_multi[ds_multi['order_transactionid'] > 1]\n",
        "\n",
        "# Filter for customers with multiple purchases\n",
        "ds_interval = drugstore[drugstore.visitor_visitorid.isin(ds_multi.visitor_visitorid)]\n",
        "\n",
        "del ds_multi\n",
        "\n",
        "# Convert timestamp to date and order the dateframe by customer and order date\n",
        "ds_interval = ds_interval[['visitor_visitorid','time_epoch_hr']]\n",
        "ds_interval['date'] = pd.to_datetime(ds_interval['time_epoch_hr']).dt.date\n",
        "ds_interval = ds_interval.sort_values(by =['visitor_visitorid','date'])"
      ],
      "metadata": {
        "id": "ZSsyZIwEceFI"
      },
      "execution_count": null,
      "outputs": []
    },
    {
      "cell_type": "code",
      "source": [
        "# Calculate the time interval\n",
        "ds_interval['previous_date'] = ds_interval.groupby('visitor_visitorid')['date'].shift(1)\n",
        "ds_interval.dropna(inplace = True)\n",
        "ds_interval['order_interval'] = (ds_interval['date'] - ds_interval['previous_date']).dt.days\n",
        "\n",
        "# Remove orders made on the same day\n",
        "df_interval = ds_interval[ds_interval['order_interval'] > 2]\n",
        "\n",
        "# Plot interval\n",
        "plt.figure(figsize =(25,10))\n",
        "ax = sns.boxplot(df_interval['order_interval'])\n",
        "plt.title(\"Distribution of Days Between Orders\")\n",
        "plt.xlabel(\"Days\")\n",
        "plt.show()\n",
        "\n",
        "# Clear objects\n",
        "del ax, df_interval "
      ],
      "metadata": {
        "id": "hesKjWGcb27X"
      },
      "execution_count": null,
      "outputs": []
    },
    {
      "cell_type": "code",
      "source": [
        "# Add order date to modelling dateframe\n",
        "drugstore['date'] = pd.to_datetime(drugstore['time_epoch_hr']).dt.date\n",
        "\n",
        "# Identify Max Purchase Date\n",
        "v_maxdate = drugstore.date.max()\n",
        "\n",
        "# Identify Max Purchase Date Per Customer\n",
        "df_recency = drugstore.groupby('visitor_visitorid')['date'].max().reset_index()\n",
        "df_recency['recency_days'] = (v_maxdate - df_recency['date']).dt.days\n",
        "df_recency['segment_recency'] = np.where(df_recency['recency_days'] < 90, 'Active', \n",
        "                                         np.where(df_recency['recency_days'] <= 180, 'Inactive', 'Lapsed'))\n",
        "# Plot\n",
        "fig, ax = plt.subplots(1, 2, figsize=(18,8))\n",
        "ax[0].set_title(\"Number of Customers\")\n",
        "ax[1].set_title(\"Distribution of Days\")\n",
        "sns.countplot(data = df_recency, x = 'segment_recency', order = ['Active', 'Inactive', 'Lapsed'], ax = ax[0])\n",
        "sns.boxplot(data = df_recency, x = 'segment_recency', y = 'recency_days', order = ['Active', 'Inactive', 'Lapsed'], ax = ax[1])\n",
        "plt.setp(ax[:], xlabel='Recency Segment')\n",
        "plt.setp(ax[0], ylabel='Number of Customers')\n",
        "plt.setp(ax[1], ylabel='Number of Days')\n",
        "plt.show()\n",
        "\n",
        "# Create Segment Dataframe\n",
        "df_segments = df_recency[['visitor_visitorid', 'recency_days', 'segment_recency']].copy()\n",
        "\n",
        "# Clear Object\n",
        "del v_maxdate, df_recency, fig, ax"
      ],
      "metadata": {
        "id": "Hb6FsspNb8Yp"
      },
      "execution_count": null,
      "outputs": []
    }
  ],
  "metadata": {
    "colab": {
      "collapsed_sections": [
        "9eW23eQ9iiVJ",
        "tLBkVzS80xZY",
        "_xsi-7Ap2IgV",
        "xk1cSLvbbixT"
      ],
      "provenance": [],
      "include_colab_link": true
    },
    "kernelspec": {
      "display_name": "Python 3",
      "name": "python3"
    },
    "language_info": {
      "name": "python"
    }
  },
  "nbformat": 4,
  "nbformat_minor": 0
}